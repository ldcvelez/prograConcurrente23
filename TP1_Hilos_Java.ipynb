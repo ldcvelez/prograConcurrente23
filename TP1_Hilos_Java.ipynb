{
  "nbformat": 4,
  "nbformat_minor": 0,
  "metadata": {
    "colab": {
      "provenance": []
    },
    "kernelspec": {
      "name": "python3",
      "display_name": "Python 3"
    },
    "language_info": {
      "name": "python"
    }
  },
  "cells": [
    {
      "cell_type": "code",
      "execution_count": 5,
      "metadata": {
        "id": "Cl5d_EOKeIVw"
      },
      "outputs": [],
      "source": [
        "import os\n",
        "\n",
        "# Crear el directorio src\n",
        "os.makedirs(\"src\", exist_ok=True)\n",
        "\n",
        "# Crear el directorio bin\n",
        "os.makedirs(\"bin\", exist_ok=True)"
      ]
    },
    {
      "cell_type": "code",
      "source": [
        "%%writefile src/Main.java\n",
        "package ejercicio1;\n",
        "\n",
        "import java.util.Formatter;\n",
        "import java.util.Random;\n",
        "\n",
        "public class Main {\n",
        "\n",
        "\tstatic Random rnd = new Random();\n",
        "\tstatic int[][] matriz1 = new int[5][5];\n",
        "\tstatic int[][] matriz2 = new int[5][5];\n",
        "\tstatic int[][] matrizResultadoCS = new int[5][5];\n",
        "\tstatic int[][] matrizResultadoCG = new int[5][5];\n",
        "\n",
        "    public static void main(String[] args) throws InterruptedException {\n",
        "\n",
        "        //Mostrar matriz\n",
        "        //mostrarMatriz(matrizResultadoCS);\n",
        "\n",
        "        //Inicilizar matriz con numeros aleatorios\n",
        "        inicializarMatriz(matriz1);\n",
        "        inicializarMatriz(matriz2);\n",
        "\n",
        "        //Sumar matriz secuencialmente\n",
        "        sumaSecuencial(matriz1, matriz2, matrizResultadoCS);\n",
        "\n",
        "\n",
        "        Thread[] threads = new Thread[5];\n",
        "\n",
        "        for (int i = 0; i < 5; i++) {\n",
        "        \tthreads[i] = new Hilo(i);\n",
        "        \tthreads[i].start();\n",
        "        }\n",
        "\n",
        "        for (int i = 0; i < 5; i++) {\n",
        "        \tthreads[i].join();\n",
        "        }\n",
        "\n",
        "\n",
        "        System.out.println(\"Matriz resultado secuencial:\\n\");\n",
        "        mostrarMatriz(matrizResultadoCS);\n",
        "\n",
        "        System.out.println(\"\\nMatriz resultado con hilos:\\n\");\n",
        "        mostrarMatriz(matrizResultadoCG);\n",
        "\n",
        "        compararMatriz(matrizResultadoCS,matrizResultadoCG);\n",
        "    }\n",
        "\n",
        "\n",
        "\n",
        "\tpublic static class Hilo extends Thread {\n",
        "\n",
        "    \tprivate int position;\n",
        "\n",
        "        public Hilo(int i) {\n",
        "            position= i;\n",
        "        }\n",
        "\n",
        "\n",
        "        public void run()\n",
        "        {\n",
        "            for (int j = 0; j < 5; j++) {\n",
        "            \tmatrizResultadoCG[position][j] = matriz1[position][j] + matriz2[position][j];\n",
        "            }\n",
        "        }\n",
        "\n",
        "    }\n",
        "\n",
        "\tprivate static void inicializarMatriz(int[][] matriz) {\n",
        "    \tfor (int i = 0; i < 5; i++) {\n",
        "            for (int j = 0; j < 5; j++) {\n",
        "            \tmatriz[i][j] = (rnd.nextInt(65) - 32);\n",
        "           }\n",
        "        }\n",
        "\n",
        "\t}\n",
        "\n",
        "    private static void sumaSecuencial(int[][] matriz1,int[][] matriz2 , int[][] matrizR) {\n",
        "    \tfor (int i = 0; i < 5; i++) {\n",
        "            for (int j = 0; j < 5; j++) {\n",
        "            \tmatrizR[i][j] = matriz1[i][j] + matriiz2[i][j];\n",
        "            }\n",
        "        }\n",
        "\t}\n",
        "\n",
        "\n",
        "    public static void mostrarMatriz(int[][] matriz) {\n",
        "    \tfor (int i = 0; i < 5; i++) {\n",
        "            for (int j = 0; j < 5; j++) {\n",
        "\n",
        "                System.out.print(new Formatter().format(\"%3d \",matriz[i][j]));\n",
        "            }\n",
        "          System.out.println();\n",
        "        }\n",
        "\n",
        "    }\n",
        "\n",
        "    private static void compararMatriz(int[][] matrizResultadoCS, int[][] matrizResultadoCG) {\n",
        "\n",
        "    \tfor (int i = 0; i < 5; i++) {\n",
        "            for (int j = 0; j < 5; j++) {\n",
        "\n",
        "                if ( !(matrizResultadoCS[i][j] ==  matrizResultadoCG[i][j])) {\n",
        "\t\t\t\t\tSystem.out.println(\"Las matrices no son iguales!\");\n",
        "\t\t\t\t\tSystem.exit(1);\n",
        "\t\t\t\t}\n",
        "            }\n",
        "        }\n",
        "\n",
        "    \tSystem.out.println(\"Las matrices son iguales!\");\n",
        "  \t}\n",
        "\n",
        "}"
      ],
      "metadata": {
        "colab": {
          "base_uri": "https://localhost:8080/"
        },
        "id": "6Xu6y3A5eh2u",
        "outputId": "243de071-4c25-439e-8368-6ef1c5262bce"
      },
      "execution_count": 6,
      "outputs": [
        {
          "output_type": "stream",
          "name": "stdout",
          "text": [
            "Overwriting src/Main.java\n"
          ]
        }
      ]
    },
    {
      "cell_type": "code",
      "source": [
        "%%writefile run.sh\n",
        "# Compilar A.java y crear el directorio bin si no existe\n",
        "javac -d bin src/Main.java\n",
        "mkdir -p bin/ejercicio1\n",
        "\n",
        "# Compilar Main.java y mover los archivos .class al directorio bin/tp2\n",
        "java -cp bin ejercicio1.Main 1>output 2>/dev/null &\n",
        "wait $!\n",
        "\n",
        "cat ./output"
      ],
      "metadata": {
        "colab": {
          "base_uri": "https://localhost:8080/"
        },
        "id": "dvn7fi6cerC-",
        "outputId": "21be3486-26eb-4819-b83f-4001c71f7842"
      },
      "execution_count": 7,
      "outputs": [
        {
          "output_type": "stream",
          "name": "stdout",
          "text": [
            "Overwriting run.sh\n"
          ]
        }
      ]
    },
    {
      "cell_type": "code",
      "source": [
        "!bash run.sh"
      ],
      "metadata": {
        "colab": {
          "base_uri": "https://localhost:8080/"
        },
        "id": "GnLSPP86ezdf",
        "outputId": "cc698b65-0cc4-40f1-e9cd-09b9a17686a6"
      },
      "execution_count": 8,
      "outputs": [
        {
          "output_type": "stream",
          "name": "stdout",
          "text": [
            "Matriz resultado secuencial:\n",
            "\n",
            "  2 -34 -49  20  21 \n",
            " -1  -7  47 -40  29 \n",
            "-30  -8  34  22 -12 \n",
            " 33  -2  29  39 -16 \n",
            " 53   5 -33   1  16 \n",
            "\n",
            "Matriz resultado con hilos:\n",
            "\n",
            "  2 -34 -49  20  21 \n",
            " -1  -7  47 -40  29 \n",
            "-30  -8  34  22 -12 \n",
            " 33  -2  29  39 -16 \n",
            " 53   5 -33   1  16 \n",
            "Las matrices son iguales!\n"
          ]
        }
      ]
    }
  ]
}
